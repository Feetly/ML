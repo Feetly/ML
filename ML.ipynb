{
  "nbformat": 4,
  "nbformat_minor": 0,
  "metadata": {
    "colab": {
      "name": "ML.ipynb",
      "version": "0.3.2",
      "provenance": [],
      "include_colab_link": true
    },
    "kernelspec": {
      "name": "python3",
      "display_name": "Python 3"
    },
    "accelerator": "GPU"
  },
  "cells": [
    {
      "cell_type": "markdown",
      "metadata": {
        "id": "view-in-github",
        "colab_type": "text"
      },
      "source": [
        "<a href=\"https://colab.research.google.com/github/Feetly/ML/blob/master/ML.ipynb\" target=\"_parent\"><img src=\"https://colab.research.google.com/assets/colab-badge.svg\" alt=\"Open In Colab\"/></a>"
      ]
    },
    {
      "cell_type": "markdown",
      "metadata": {
        "id": "Wr7iIOvXuDE7",
        "colab_type": "text"
      },
      "source": [
        "# **# Importing the libraries**"
      ]
    },
    {
      "cell_type": "code",
      "metadata": {
        "id": "50nxqa50uMSd",
        "colab_type": "code",
        "cellView": "both",
        "colab": {}
      },
      "source": [
        "import numpy as np\n",
        "import matplotlib.pyplot as plt\n",
        "import pandas as pd\n",
        "%matplotlib inline"
      ],
      "execution_count": 0,
      "outputs": []
    },
    {
      "cell_type": "markdown",
      "metadata": {
        "id": "iZTEStW5u8b7",
        "colab_type": "text"
      },
      "source": [
        "# **# Importing the dataset**"
      ]
    },
    {
      "cell_type": "code",
      "metadata": {
        "id": "LalgRLbSu4xy",
        "colab_type": "code",
        "colab": {}
      },
      "source": [
        "\"\"\"\n",
        "!wget --show-progress --continue -O /content/shakespeare.txt https://drive.google.com/file/d/1DEmBwF6FX94RVV3hf6z2ztbX6AMVxmRp/view?usp=sharing  #Any Link\n",
        "\n",
        "from google.colab import files   #Local machine\n",
        "uploaded = files.upload()\n",
        "\n",
        "df1 = pd.read_csv('copied_raw_GH_link') #Github\n",
        "\"\"\"\n",
        "from google.colab import files   #Local machine\n",
        "uploaded = files.upload()\n",
        "\n"
      ],
      "execution_count": 0,
      "outputs": []
    },
    {
      "cell_type": "code",
      "metadata": {
        "id": "wCfLGDXF07Fn",
        "colab_type": "code",
        "colab": {}
      },
      "source": [
        "dataset = pd.read_csv('Position_Salaries.csv')\n",
        "X = dataset.iloc[:, 1:2].values\n",
        "y = dataset.iloc[:, 2].values"
      ],
      "execution_count": 0,
      "outputs": []
    },
    {
      "cell_type": "markdown",
      "metadata": {
        "id": "CmsMA_fV4HUi",
        "colab_type": "text"
      },
      "source": [
        "# **Visulising the Data nd preparing it for ml**"
      ]
    },
    {
      "cell_type": "code",
      "metadata": {
        "id": "ZPmDcv3a4QAq",
        "colab_type": "code",
        "colab": {}
      },
      "source": [
        ""
      ],
      "execution_count": 0,
      "outputs": []
    },
    {
      "cell_type": "markdown",
      "metadata": {
        "id": "bjdSpj3q30zZ",
        "colab_type": "text"
      },
      "source": [
        "# **# Encoding categorical data nd Avoiding Dummy Variable Trap**"
      ]
    },
    {
      "cell_type": "code",
      "metadata": {
        "id": "p3zDzdKi38JJ",
        "colab_type": "code",
        "colab": {}
      },
      "source": [
        "from sklearn.preprocessing import LabelEncoder, OneHotEncoder\n",
        "labelencoder = LabelEncoder()\n",
        "X[:, 3] = labelencoder.fit_transform(X[:, 3])\n",
        "onehotencoder = OneHotEncoder(categorical_features = [3])\n",
        "X = onehotencoder.fit_transform(X).toarray()\n",
        "\n",
        "# Avoiding the Dummy Variable Trap\n",
        "X = X[:, 1:]\n"
      ],
      "execution_count": 0,
      "outputs": []
    },
    {
      "cell_type": "markdown",
      "metadata": {
        "id": "zyGxR-BczS95",
        "colab_type": "text"
      },
      "source": [
        "# **# Splitting the dataset into the Training set and Test set**"
      ]
    },
    {
      "cell_type": "code",
      "metadata": {
        "id": "nExhu1JjzkU2",
        "colab_type": "code",
        "colab": {}
      },
      "source": [
        "from sklearn.model_selection import train_test_split\n",
        "X_train, X_test, y_train, y_test = train_test_split(X, y, test_size = 0.1, random_state = 69)"
      ],
      "execution_count": 0,
      "outputs": []
    },
    {
      "cell_type": "markdown",
      "metadata": {
        "id": "9286Vo-Zzt1y",
        "colab_type": "text"
      },
      "source": [
        "# **# Feature Scaling**"
      ]
    },
    {
      "cell_type": "code",
      "metadata": {
        "id": "LB9NQTbOz0Q5",
        "colab_type": "code",
        "colab": {}
      },
      "source": [
        "from sklearn.preprocessing import StandardScaler\n",
        "sc_X = StandardScaler()\n",
        "X_train = sc_X.fit_transform(X_train)\n",
        "X_test = sc_X.transform(X_test)\n",
        "sc_y = StandardScaler()\n",
        "y_train = sc_y.fit_transform(y_train.reshape(-1,1))"
      ],
      "execution_count": 0,
      "outputs": []
    },
    {
      "cell_type": "markdown",
      "metadata": {
        "id": "rI3k93Te0CAL",
        "colab_type": "text"
      },
      "source": [
        "# **# Fitting the Regression Model to the dataset**"
      ]
    },
    {
      "cell_type": "code",
      "metadata": {
        "id": "4S1uOO6CaRhy",
        "colab_type": "code",
        "colab": {}
      },
      "source": [
        "best = [0,0,0,0,0]"
      ],
      "execution_count": 0,
      "outputs": []
    },
    {
      "cell_type": "markdown",
      "metadata": {
        "id": "W5laH0Rq2K4Y",
        "colab_type": "text"
      },
      "source": [
        "**# Simple Linear Regression**"
      ]
    },
    {
      "cell_type": "code",
      "metadata": {
        "id": "L1sbYNSd0Gdb",
        "colab_type": "code",
        "colab": {}
      },
      "source": [
        "# No Scaling Needed\n",
        "from sklearn.linear_model import LinearRegression\n",
        "regressor = LinearRegression()\n",
        "regressor.fit(X_train, y_train)\n",
        "best[0]=regressor.rsquared_adj"
      ],
      "execution_count": 0,
      "outputs": []
    },
    {
      "cell_type": "markdown",
      "metadata": {
        "id": "iDDKmHro2dAC",
        "colab_type": "text"
      },
      "source": [
        "**# Multiple Linear Regression**"
      ]
    },
    {
      "cell_type": "code",
      "metadata": {
        "id": "zwuuW_3o4b1H",
        "colab_type": "code",
        "colab": {}
      },
      "source": [
        "# Same as SLR but we cant visualise results but can execute same as SLR\n",
        "# No Scaling\n",
        "# Same code , prepare, train , fit nd predict\n",
        "best[0]=regressor.rsquared_adj"
      ],
      "execution_count": 0,
      "outputs": []
    },
    {
      "cell_type": "markdown",
      "metadata": {
        "id": "dFYZulQW46_O",
        "colab_type": "text"
      },
      "source": [
        "**# Polynomial Regression**"
      ]
    },
    {
      "cell_type": "code",
      "metadata": {
        "id": "M4KPjqEv5CBJ",
        "colab_type": "code",
        "colab": {}
      },
      "source": [
        "# No Scaling\n",
        "from sklearn.preprocessing import PolynomialFeatures\n",
        "regressor = PolynomialFeatures(degree = 4)\n",
        "X_train = regressor.fit_transform(X_train)\n",
        "X_test = regressor.fit_transform(X_test)\n",
        "regressor.fit(X_train, y_train)\n",
        "best[1]=regressor.rsquared_adj"
      ],
      "execution_count": 0,
      "outputs": []
    },
    {
      "cell_type": "markdown",
      "metadata": {
        "id": "uTLqrRtMB1l_",
        "colab_type": "text"
      },
      "source": [
        "**# Support Vector Regression**"
      ]
    },
    {
      "cell_type": "code",
      "metadata": {
        "id": "g2BuBbigB0xc",
        "colab_type": "code",
        "colab": {}
      },
      "source": [
        "# Scaling\n",
        "from sklearn.svm import SVR\n",
        "regressor = SVR(kernel = 'rbf')\n",
        "regressor.fit(X, y)\n",
        "best[2]=regressor.rsquared_adj"
      ],
      "execution_count": 0,
      "outputs": []
    },
    {
      "cell_type": "markdown",
      "metadata": {
        "id": "8k-KV2cvDi8G",
        "colab_type": "text"
      },
      "source": [
        "**# Decision Tree Regression**"
      ]
    },
    {
      "cell_type": "code",
      "metadata": {
        "id": "rHujvIx1D36B",
        "colab_type": "code",
        "colab": {}
      },
      "source": [
        "# No Scaling\n",
        "from sklearn.tree import DecisionTreeRegressor\n",
        "regressor = DecisionTreeRegressor(random_state = 69)\n",
        "regressor.fit(X, y)\n",
        "best[3]=regressor.rsquared_adj"
      ],
      "execution_count": 0,
      "outputs": []
    },
    {
      "cell_type": "markdown",
      "metadata": {
        "id": "rQ5f_-u1K27U",
        "colab_type": "text"
      },
      "source": [
        "**# Random Forest Regression**"
      ]
    },
    {
      "cell_type": "code",
      "metadata": {
        "id": "WHr4Yf1NK81G",
        "colab_type": "code",
        "colab": {}
      },
      "source": [
        "from sklearn.ensemble import RandomForestRegressor\n",
        "regressor = RandomForestRegressor(n_estimators = 500, random_state = 69)\n",
        "regressor.fit(X, y)\n",
        "best[4]=regressor.rsquared_adj"
      ],
      "execution_count": 0,
      "outputs": []
    },
    {
      "cell_type": "markdown",
      "metadata": {
        "id": "vGrvCzJbaEIE",
        "colab_type": "text"
      },
      "source": [
        "**# Getting Best Suitable Model**"
      ]
    },
    {
      "cell_type": "code",
      "metadata": {
        "id": "dUS7G9qVaIT9",
        "colab_type": "code",
        "colab": {}
      },
      "source": [
        "Model = idmin(best)"
      ],
      "execution_count": 0,
      "outputs": []
    },
    {
      "cell_type": "markdown",
      "metadata": {
        "id": "8CM5D4_f0HdB",
        "colab_type": "text"
      },
      "source": [
        "# **# Predicting a new result**"
      ]
    },
    {
      "cell_type": "code",
      "metadata": {
        "id": "ps1pECGn0Nf8",
        "colab_type": "code",
        "colab": {}
      },
      "source": [
        "y_pred = regressor.predict(x_test)\n",
        "#y_pred = sc_y.inverse_transform(y_pred)\n",
        "\n",
        "print(y_pred)"
      ],
      "execution_count": 0,
      "outputs": []
    },
    {
      "cell_type": "markdown",
      "metadata": {
        "id": "XEey8-Ko0QC1",
        "colab_type": "text"
      },
      "source": [
        "# **# Visualising the Regression results**"
      ]
    },
    {
      "cell_type": "markdown",
      "metadata": {
        "id": "XfViHyZB28pS",
        "colab_type": "text"
      },
      "source": [
        "**# Visualising the Training set results**"
      ]
    },
    {
      "cell_type": "code",
      "metadata": {
        "id": "Sp5JEpPI0XTs",
        "colab_type": "code",
        "colab": {}
      },
      "source": [
        "X_grid = np.arange(min(X_train), max(X_train), 0.01)\n",
        "X_grid = X_grid.reshape((len(X_grid), 1))\n",
        "plt.scatter(X_train, y_train, color = 'red')\n",
        "plt.plot(X_grid, regressor.predict(X_grid), color = 'blue')\n",
        "plt.title('Truth or Bluff (Regression Model)')\n",
        "plt.xlabel('Position level')\n",
        "plt.ylabel('Salary')\n",
        "plt.show()"
      ],
      "execution_count": 0,
      "outputs": []
    },
    {
      "cell_type": "markdown",
      "metadata": {
        "id": "aTEj2XUY3To1",
        "colab_type": "text"
      },
      "source": [
        "**# Visualising the Test set results**"
      ]
    },
    {
      "cell_type": "code",
      "metadata": {
        "id": "R6pRIhEV3W4K",
        "colab_type": "code",
        "colab": {}
      },
      "source": [
        "X_grid = np.arange(min(X_train), max(X_train), 0.01)\n",
        "X_grid = X_grid.reshape((len(X_grid), 1))\n",
        "plt.scatter(X_test, y_test, color = 'red')\n",
        "plt.plot(X_grid, regressor.predict(X_grid), color = 'blue')\n",
        "plt.title('Truth or Bluff (Regression Model)')\n",
        "plt.xlabel('Position level')\n",
        "plt.ylabel('Salary')\n",
        "plt.show()"
      ],
      "execution_count": 0,
      "outputs": []
    }
  ]
}